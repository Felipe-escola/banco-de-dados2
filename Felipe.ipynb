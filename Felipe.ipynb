{
  "nbformat": 4,
  "nbformat_minor": 0,
  "metadata": {
    "colab": {
      "provenance": [],
      "authorship_tag": "ABX9TyOoDYPKtFUucA44cubLYPyP",
      "include_colab_link": true
    },
    "kernelspec": {
      "name": "python3",
      "display_name": "Python 3"
    },
    "language_info": {
      "name": "python"
    }
  },
  "cells": [
    {
      "cell_type": "markdown",
      "metadata": {
        "id": "view-in-github",
        "colab_type": "text"
      },
      "source": [
        "<a href=\"https://colab.research.google.com/github/Felipe-escola/banco-de-dados2/blob/main/Felipe.ipynb\" target=\"_parent\"><img src=\"https://colab.research.google.com/assets/colab-badge.svg\" alt=\"Open In Colab\"/></a>"
      ]
    },
    {
      "cell_type": "code",
      "execution_count": null,
      "metadata": {
        "id": "BY4zcmrzSdd0"
      },
      "outputs": [],
      "source": []
    },
    {
      "cell_type": "code",
      "source": [
        "# Importa a biblioteca para trabalhar com bancos de dados SQLite.\n",
        "import sqlite3\n",
        "\n",
        "\n",
        "# Conecta ao banco de dados (ou criar se não existir)\n",
        "conn = sqlite3.connect('clientes.db')\n",
        "\n",
        "\n",
        "# O método .cursor() cria um objeto chamado \"cursor\".\n",
        "# Esse objeto é sua interface para enviar comandos SQL ao BD.\n",
        "cursor = conn.cursor()\n",
        "\n",
        "\n",
        "# Cria a tabela de clientes\n",
        "cursor.execute('''\n",
        "CREATE TABLE IF NOT EXISTS clientes (\n",
        "   id INTEGER PRIMARY KEY AUTOINCREMENT,\n",
        "   nome TEXT NOT NULL,\n",
        "   email TEXT NOT NULL UNIQUE\n",
        ")\n",
        "''')\n",
        "\n",
        "\n",
        "# Confirma as mudanças\n",
        "conn.commit()\n",
        "\n",
        "\n",
        "# Fecha a conexão\n",
        "conn.close()\n",
        "\n",
        "\n",
        "# Confirma execução do bloco de código\n",
        "print(\"Executado com sucesso!\")\n"
      ],
      "metadata": {
        "colab": {
          "base_uri": "https://localhost:8080/"
        },
        "id": "TsZyYXJHSz56",
        "outputId": "73e43b8e-a091-4def-c72d-f627cb849901"
      },
      "execution_count": null,
      "outputs": [
        {
          "output_type": "stream",
          "name": "stdout",
          "text": [
            "Executado com sucesso!\n"
          ]
        }
      ]
    },
    {
      "cell_type": "code",
      "source": [
        "# Importa biblioteca para acessar funcionalidades do sistema operacional,\n",
        "# por exemplo, a manipulação de arquivos.\n",
        "import os\n",
        "\n",
        "# Verificar se o arquivo do banco de dados foi criado\n",
        "if os.path.exists('clientes.db'):\n",
        "    print(\"Banco de dados criado com sucesso!\")\n",
        "else:\n",
        "    print(\"Erro ao criar o banco de dados.\")\n"
      ],
      "metadata": {
        "id": "kMmpyIx9T19p",
        "outputId": "0ec15e2c-f09d-4ba5-ceb4-f42a0d49c285",
        "colab": {
          "base_uri": "https://localhost:8080/"
        }
      },
      "execution_count": null,
      "outputs": [
        {
          "output_type": "stream",
          "name": "stdout",
          "text": [
            "Banco de dados criado com sucesso!\n"
          ]
        }
      ]
    },
    {
      "cell_type": "code",
      "source": [
        "import sqlite3\n",
        "import os\n",
        "\n",
        "# Remove banco corrompido, se existir\n",
        "if os.path.exists('clientes.db'):\n",
        "    os.remove('clientes.db')\n",
        "    print(\"Banco corrompido removido.\")\n",
        "\n",
        "# Cria novo banco e tabela\n",
        "conn = sqlite3.connect('clientes.db')\n",
        "cursor = conn.cursor()\n",
        "cursor.execute('''\n",
        "CREATE TABLE clientes (\n",
        "    id INTEGER PRIMARY KEY AUTOINCREMENT,\n",
        "    nome TEXT NOT NULL,\n",
        "    email TEXT NOT NULL\n",
        ")\n",
        "''')\n",
        "conn.commit()\n",
        "\n",
        "# Insere dados de exemplo\n",
        "cursor.execute('INSERT INTO clientes (nome, email) VALUES (?, ?)', ('Mariana', 'mariana@example.com'))\n",
        "cursor.execute('INSERT INTO clientes (nome, email) VALUES (?, ?)', ('João', 'joao@example.com'))\n",
        "conn.commit()\n",
        "conn.close()\n",
        "print(\"Banco recriado e dados inseridos.\")\n",
        "\n",
        "# Função para listar clientes\n",
        "def listar_clientes():\n",
        "    conn = sqlite3.connect('clientes.db')\n",
        "    cursor = conn.cursor()\n",
        "    cursor.execute('SELECT * FROM clientes')\n",
        "    clientes = cursor.fetchall()\n",
        "    conn.close()\n",
        "    return clientes\n",
        "\n",
        "# Exibe os clientes\n",
        "clientes = listar_clientes()\n",
        "for cliente in clientes:\n",
        "    print(cliente)\n",
        "\n"
      ],
      "metadata": {
        "colab": {
          "base_uri": "https://localhost:8080/"
        },
        "id": "Ca16iZ4YUqY4",
        "outputId": "6ff93b31-4b58-4be8-e268-08ef609d8073"
      },
      "execution_count": 6,
      "outputs": [
        {
          "output_type": "stream",
          "name": "stdout",
          "text": [
            "Banco corrompido removido.\n",
            "Banco recriado e dados inseridos.\n",
            "(1, 'Mariana', 'mariana@example.com')\n",
            "(2, 'João', 'joao@example.com')\n"
          ]
        }
      ]
    },
    {
      "cell_type": "code",
      "source": [
        "# Define função para \"limpar\" formulário, resetando os campos.\n",
        "# A função não recebe parâmetros, só retorna novo dicionário.\n",
        "def limpar_formulario():\n",
        "    # Retorna dicionário com as chaves 'nome' e 'email' e valores\n",
        "    return {'nome': '', 'email': ''}\n",
        "\n",
        "# Exemplo de uso\n",
        "# Cria dicionário que simula formulário preenchido.\n",
        "formulario = {'nome': 'João', 'email': 'joao@example.com'}\n",
        "print(\"Antes de limpar:\", formulario)\n",
        "\n",
        "# Chama função para obter o formulário limpo e atribui o resultado\n",
        "# à variável 'formulario', sobrescrevendo o valor anterior com campos vazios.\n",
        "formulario = limpar_formulario()\n",
        "print(\"Depois de limpar:\", formulario)\n",
        "\n"
      ],
      "metadata": {
        "colab": {
          "base_uri": "https://localhost:8080/"
        },
        "id": "dk577zPFVZpq",
        "outputId": "50eafdbf-9c69-4e3a-ab6a-97ecb0b3ec98"
      },
      "execution_count": 7,
      "outputs": [
        {
          "output_type": "stream",
          "name": "stdout",
          "text": [
            "Antes de limpar: {'nome': 'João', 'email': 'joao@example.com'}\n",
            "Depois de limpar: {'nome': '', 'email': ''}\n"
          ]
        }
      ]
    }
  ]
}